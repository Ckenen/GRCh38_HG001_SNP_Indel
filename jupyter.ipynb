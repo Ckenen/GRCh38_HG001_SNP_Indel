{
 "cells": [
  {
   "cell_type": "code",
   "execution_count": 9,
   "id": "1619ecb5",
   "metadata": {
    "ExecuteTime": {
     "end_time": "2024-03-03T06:49:14.180510Z",
     "start_time": "2024-03-03T06:49:14.173230Z"
    }
   },
   "outputs": [],
   "source": [
    "import re\n",
    "import gzip\n",
    "from collections import OrderedDict\n",
    "import pysam\n",
    "import matplotlib.pyplot as plt\n",
    "from matplotlib_venn import *"
   ]
  },
  {
   "cell_type": "markdown",
   "id": "1c1533d4",
   "metadata": {
    "ExecuteTime": {
     "end_time": "2023-09-17T02:55:14.666573Z",
     "start_time": "2023-09-17T02:55:14.619267Z"
    }
   },
   "source": [
    "# Raise error when loading VCF file by Pysam"
   ]
  },
  {
   "cell_type": "markdown",
   "id": "91532b5f",
   "metadata": {},
   "source": [
    "We load the VCF by pysam module and encounter a fatal error."
   ]
  },
  {
   "cell_type": "code",
   "execution_count": 1,
   "id": "e9a3ffcf",
   "metadata": {
    "ExecuteTime": {
     "end_time": "2024-03-03T06:41:08.796744Z",
     "start_time": "2024-03-03T06:40:50.147945Z"
    }
   },
   "outputs": [
    {
     "ename": "OSError",
     "evalue": "unable to parse next record",
     "output_type": "error",
     "traceback": [
      "\u001b[0;31m---------------------------------------------------------------------------\u001b[0m",
      "\u001b[0;31mOSError\u001b[0m                                   Traceback (most recent call last)",
      "\u001b[0;32m<ipython-input-1-ae73df7f8bf7>\u001b[0m in \u001b[0;36m<module>\u001b[0;34m\u001b[0m\n\u001b[1;32m      4\u001b[0m \u001b[0mvcf\u001b[0m \u001b[0;34m=\u001b[0m \u001b[0;34m\"data/HG001_GRCh38_1_22_v4.2.1_benchmark_hifiasm_v11_phasetransfer.vcf.gz\"\u001b[0m\u001b[0;34m\u001b[0m\u001b[0;34m\u001b[0m\u001b[0m\n\u001b[1;32m      5\u001b[0m \u001b[0;32mwith\u001b[0m \u001b[0mpysam\u001b[0m\u001b[0;34m.\u001b[0m\u001b[0mVariantFile\u001b[0m\u001b[0;34m(\u001b[0m\u001b[0mvcf\u001b[0m\u001b[0;34m)\u001b[0m \u001b[0;32mas\u001b[0m \u001b[0mf\u001b[0m\u001b[0;34m:\u001b[0m\u001b[0;34m\u001b[0m\u001b[0;34m\u001b[0m\u001b[0m\n\u001b[0;32m----> 6\u001b[0;31m     \u001b[0;32mfor\u001b[0m \u001b[0ms\u001b[0m \u001b[0;32min\u001b[0m \u001b[0mf\u001b[0m\u001b[0;34m:\u001b[0m\u001b[0;34m\u001b[0m\u001b[0;34m\u001b[0m\u001b[0m\n\u001b[0m\u001b[1;32m      7\u001b[0m         \u001b[0mlast\u001b[0m \u001b[0;34m=\u001b[0m \u001b[0ms\u001b[0m\u001b[0;34m\u001b[0m\u001b[0;34m\u001b[0m\u001b[0m\n",
      "\u001b[0;32mpysam/libcbcf.pyx\u001b[0m in \u001b[0;36mpysam.libcbcf.VariantFile.__next__\u001b[0;34m()\u001b[0m\n",
      "\u001b[0;31mOSError\u001b[0m: unable to parse next record"
     ]
    }
   ],
   "source": [
    "last = None\n",
    "vcf = \"data/HG001_GRCh38_1_22_v4.2.1_benchmark_hifiasm_v11_phasetransfer.vcf.gz\"\n",
    "with pysam.VariantFile(vcf) as f:\n",
    "    for s in f:\n",
    "        last = s"
   ]
  },
  {
   "cell_type": "code",
   "execution_count": 2,
   "id": "3665083e",
   "metadata": {
    "ExecuteTime": {
     "end_time": "2024-03-03T06:41:23.728992Z",
     "start_time": "2024-03-03T06:41:23.719828Z"
    }
   },
   "outputs": [
    {
     "name": "stdout",
     "output_type": "stream",
     "text": [
      "chr6\t28509805\t.\tG\tA\t50\tPASS\tplatforms=5;platformnames=Illumina,PacBio,CG,10X,Solid;datasets=5;datasetnames=HiSeqPE300x,CCS15kb_20kb,CGnormal,10XChromiumLR,SolidSE75bp;callsets=7;callsetnames=HiSeqPE300xGATK,CCS15kb_20kbDV,CCS15kb_20kbGATK4,CGnormal,HiSeqPE300xfreebayes,10XLRGATK,SolidSE75GATKHC;datasetsmissingcall=IonExome;callable=CS_HiSeqPE300xGATK_callable,CS_CCS15kb_20kbDV_callable,CS_10XLRGATK_callable,CS_CCS15kb_20kbGATK4_callable,CS_CGnormal_callable,CS_HiSeqPE300xfreebayes_callable\tGT:DP:ADALL:AD:GQ:IGT:IPS:PS\t0|1:822:166,134:218,192:630:0/1:.:PATMAT\n",
      "\n"
     ]
    }
   ],
   "source": [
    "print(last)"
   ]
  },
  {
   "cell_type": "markdown",
   "id": "56915038",
   "metadata": {},
   "source": [
    "The above result indicates that the improper record is behind chr6:28509805. The SNP is near to the MHC region."
   ]
  },
  {
   "cell_type": "markdown",
   "id": "d6feafda",
   "metadata": {},
   "source": [
    "# Inspect error records"
   ]
  },
  {
   "cell_type": "markdown",
   "id": "6129033d",
   "metadata": {},
   "source": [
    "Next, we inspected the improper records and found that the item count (5) of the FORMAT column is unequal to the item count (7) of the SAMPLE/INTEGRATION column.\n",
    "\n",
    "Remove the redundant items from SAMPLE will solve the problem."
   ]
  },
  {
   "cell_type": "code",
   "execution_count": 3,
   "id": "61f58839",
   "metadata": {
    "ExecuteTime": {
     "end_time": "2024-03-03T06:42:39.081792Z",
     "start_time": "2024-03-03T06:42:30.409211Z"
    }
   },
   "outputs": [
    {
     "name": "stdout",
     "output_type": "stream",
     "text": [
      "chr6\t28509805\t.\tG\tA\t50\tPASS\tplatforms=5;platformnames=Illumina,PacBio,CG,10X,Solid;datasets=5;datasetnames=HiSeqPE300x,CCS15kb_20kb,CGnormal,10XChromiumLR,SolidSE75bp;callsets=7;callsetnames=HiSeqPE300xGATK,CCS15kb_20kbDV,CCS15kb_20kbGATK4,CGnormal,HiSeqPE300xfreebayes,10XLRGATK,SolidSE75GATKHC;datasetsmissingcall=IonExome;callable=CS_HiSeqPE300xGATK_callable,CS_CCS15kb_20kbDV_callable,CS_10XLRGATK_callable,CS_CCS15kb_20kbGATK4_callable,CS_CGnormal_callable,CS_HiSeqPE300xfreebayes_callable\tGT:DP:ADALL:AD:GQ:IGT:IPS:PS\t0|1:822:166,134:218,192:630:0/1:.:PATMAT\n",
      "chr6\t28510118\t.\tT\tC\t30\t.\t.\tGT:AD:IGT:IPS:PS\t0|1:1,1:1|0:.:PATMAT:.:.\n",
      "chr6\t28511949\t.\tC\tCG\t30\t.\t.\tGT:AD:IGT:IPS:PS\t0|1:1,1:1|0:.:PATMAT:.:.\n",
      "chr6\t28511953\t.\tC\tA\t30\t.\t.\tGT:AD:IGT:IPS:PS\t0|1:1,1:1|0:.:PATMAT:.:.\n",
      "chr6\t28512023\t.\tC\tT\t30\t.\t.\tGT:AD:IGT:IPS:PS\t0|1:1,1:1|0:.:PATMAT:.:.\n",
      "chr6\t28512858\t.\tT\tC\t30\t.\t.\tGT:AD:IGT:IPS:PS\t0|1:1,1:1|0:.:PATMAT:.:.\n",
      "chr6\t28513056\t.\tT\tC\t30\t.\t.\tGT:AD:IGT:IPS:PS\t0|1:1,1:1|0:.:PATMAT:.:.\n",
      "chr6\t28513257\t.\tATAAGGCAGGGGTC\tA\t30\t.\t.\tGT:AD:IGT:IPS:PS\t0|1:1,1:1|0:.:PATMAT:.:.\n",
      "chr6\t28513613\t.\tG\tA\t30\t.\t.\tGT:AD:IGT:IPS:PS\t0|1:1,1:1|0:.:PATMAT:.:.\n",
      "chr6\t28513709\t.\tTA\tT\t30\t.\t.\tGT:AD:IGT:IPS:PS\t0|1:1,1:1|0:.:PATMAT:.:.\n"
     ]
    }
   ],
   "source": [
    "vcf = \"data/HG001_GRCh38_1_22_v4.2.1_benchmark_hifiasm_v11_phasetransfer.vcf.gz\"\n",
    "\n",
    "n = 0\n",
    "with gzip.open(vcf, \"rt\") as f:\n",
    "    for line in f:\n",
    "        if not line.startswith(\"#\"):\n",
    "            row = line.strip(\"\\n\").split(\"\\t\")\n",
    "            if row[0] == \"chr6\" and int(row[1]) >= 28509805:\n",
    "                print(line.strip(\"\\n\"))\n",
    "                n += 1\n",
    "                if n >= 10:\n",
    "                    break"
   ]
  },
  {
   "cell_type": "markdown",
   "id": "25676640",
   "metadata": {},
   "source": [
    "# SNPs overlap between v4.2.1 and v3.3.2\n",
    "\n",
    "v4.2.1 provides more variant calls at autosomal chromosomes."
   ]
  },
  {
   "cell_type": "code",
   "execution_count": 5,
   "id": "ea983022",
   "metadata": {
    "ExecuteTime": {
     "end_time": "2024-03-03T06:44:43.026176Z",
     "start_time": "2024-03-03T06:43:37.453939Z"
    }
   },
   "outputs": [],
   "source": [
    "def load_snps(path):\n",
    "    snps = list()\n",
    "    with gzip.open(path, \"rt\") as f:\n",
    "        for line in f:\n",
    "            if line.startswith(\"#\"):\n",
    "                continue\n",
    "            row = line.strip(\"\\n\").split(\"\\t\")\n",
    "            chrom, position, ref, alt = row[0], row[1], row[3], row[4]\n",
    "            if re.match(\"^chr[0-9]+$\", chrom) is None:\n",
    "                continue\n",
    "            if len(ref) > 1:\n",
    "                continue\n",
    "            if len(alt) > 1:\n",
    "                continue\n",
    "            snps.append((chrom, position))\n",
    "    return set(snps)\n",
    "\n",
    "snps1 = load_snps(\"data/HG001_GRCh38_GIAB_highconf_CG-IllFB-IllGATKHC-Ion-10X-SOLID_CHROM1-X_v.3.3.2_highconf_PGandRTGphasetransfer.vcf.gz\")\n",
    "snps2 = load_snps(\"data/HG001_GRCh38_1_22_v4.2.1_benchmark_hifiasm_v11_phasetransfer.vcf.gz\")"
   ]
  },
  {
   "cell_type": "code",
   "execution_count": 7,
   "id": "405663bf",
   "metadata": {
    "ExecuteTime": {
     "end_time": "2024-03-03T06:45:12.238443Z",
     "start_time": "2024-03-03T06:45:04.182733Z"
    }
   },
   "outputs": [
    {
     "data": {
      "image/png": "[encoded data removed]",
      "text/plain": [
       "<Figure size 288x216 with 1 Axes>"
      ]
     },
     "metadata": {},
     "output_type": "display_data"
    }
   ],
   "source": [
    "plt.figure(figsize=(4, 3))\n",
    "venn2([snps1, snps2], set_labels=[\"GIAB_GRCh38_HG001\\n(v3.3.2)\", \"GIAB_GRCh38_HG001\\n(v4.2.1)\"])\n",
    "plt.tight_layout()\n",
    "plt.show()"
   ]
  },
  {
   "cell_type": "markdown",
   "id": "6c652e5e",
   "metadata": {},
   "source": [
    "# Make SNP/Indel benchmark callset and region\n",
    "\n",
    "1. The INFO field were set to '.' to save space.\n",
    "2. The FILTER field were set to 'PASS'.\n",
    "3. For PATMAT and HOMVAR, the PS tag were set to '0'.\n",
    "4. The SAMPLE was changed to 'HG001'.\n",
    "5. Removed redundant FORMAT."
   ]
  },
  {
   "cell_type": "code",
   "execution_count": 12,
   "id": "a84fe4dd",
   "metadata": {
    "ExecuteTime": {
     "end_time": "2024-03-03T06:57:12.468973Z",
     "start_time": "2024-03-03T06:53:34.606006Z"
    },
    "code_folding": [
     27
    ],
    "scrolled": false
   },
   "outputs": [],
   "source": [
    "def revise_record(row, lite=False):\n",
    "    row[6] = \"PASS\"\n",
    "    if lite:\n",
    "        row[7] = \".\"\n",
    "    items1 = row[8].split(\":\")\n",
    "    items2 = row[9].split(\":\")\n",
    "    if len(items1) != len(items2):\n",
    "        if len(items1) == 5 and len(items2) == 7:\n",
    "            items2 = items2[:5]\n",
    "        else:\n",
    "            assert False\n",
    "    d = OrderedDict()\n",
    "    for k, v in zip(items1, items2):\n",
    "        d[k] = v\n",
    "    d[\"IPS\"] = d[\"PS\"]\n",
    "    if d[\"PS\"] == \"PATMAT\":\n",
    "        d[\"PS\"] = \"0\"\n",
    "    elif d[\"PS\"] == \"HOMVAR\":\n",
    "        d[\"PS\"] = \"0\"\n",
    "    elif d[\"PS\"] == \".\":\n",
    "        pass\n",
    "    else: # POS_REF_ALT\n",
    "        d[\"PS\"] = d[\"PS\"].split(\"_\")[0]\n",
    "    if lite:\n",
    "        for k in list(d.keys()):            \n",
    "            if k not in [\"GT\", \"PS\", \"IGT\", \"IPS\"]:\n",
    "                del d[k]\n",
    "    row[8] = \":\".join(d.keys())\n",
    "    row[9] = \":\".join(d.values())\n",
    "    return row\n",
    "\n",
    "def make_vcf(vcf1, vcf2, outfile, lite=True):\n",
    "    # if lite == True: remove redundant information.\n",
    "    with open(outfile, \"w+\") as fw:\n",
    "        for line in gzip.open(vcf1, \"rt\"):\n",
    "            if line.startswith(\"##\"):\n",
    "                if \"chrM\" in line:\n",
    "                    continue\n",
    "                if lite:\n",
    "                    if line.startswith(\"##INFO=\"):\n",
    "                        continue\n",
    "                    if line.startswith(\"##FILTER=\"):\n",
    "                        continue\n",
    "                    if line.startswith(\"##CL=\"):\n",
    "                        continue\n",
    "                    if line.startswith(\"##RUN-ID=\"):\n",
    "                        continue\n",
    "                fw.write(line)\n",
    "            elif line.startswith(\"#CHROM\"):\n",
    "                row = line.strip(\"\\n\").split(\"\\t\")\n",
    "                assert len(row) == 10\n",
    "                row[-1] = \"HG001\"\n",
    "                fw.write(\"\\t\".join(row) + \"\\n\")\n",
    "            else:\n",
    "                row = line.strip(\"\\n\").split(\"\\t\")\n",
    "                fw.write(\"\\t\".join(revise_record(row, lite)) + \"\\n\")\n",
    "        for line in gzip.open(vcf2, \"rt\"):\n",
    "            if line.startswith(\"#\"):\n",
    "                continue\n",
    "            row = line.strip(\"\\n\").split(\"\\t\")\n",
    "            if row[0] == \"chrX\":\n",
    "                fw.write(\"\\t\".join(revise_record(row, lite)) + \"\\n\")\n",
    "\n",
    "vcf1 = \"data/HG001_GRCh38_1_22_v4.2.1_benchmark_hifiasm_v11_phasetransfer.vcf.gz\"\n",
    "vcf2 = \"data/HG001_GRCh38_GIAB_highconf_CG-IllFB-IllGATKHC-Ion-10X-SOLID_CHROM1-X_v.3.3.2_highconf_PGandRTGphasetransfer.vcf.gz\"\n",
    "\n",
    "outfile = \"GRCh38_HG001_SNP_Indel.GIAB_v4.2.1_and_v3.3.2.vcf\"\n",
    "make_vcf(vcf1, vcf2, outfile, lite=True)\n",
    "\n",
    "! bgzip -f GRCh38_HG001_SNP_Indel.GIAB_v4.2.1_and_v3.3.2.vcf\n",
    "! tabix -f -p vcf GRCh38_HG001_SNP_Indel.GIAB_v4.2.1_and_v3.3.2.vcf.gz\n",
    "\n",
    "outfile = \"GRCh38_HG001_SNP_Indel.GIAB_v4.2.1_and_v3.3.2_full.vcf\"\n",
    "make_vcf(vcf1, vcf2, outfile, lite=False)\n",
    "\n",
    "! bgzip -f GRCh38_HG001_SNP_Indel.GIAB_v4.2.1_and_v3.3.2_full.vcf\n",
    "! tabix -f -p vcf GRCh38_HG001_SNP_Indel.GIAB_v4.2.1_and_v3.3.2_full.vcf.gz"
   ]
  },
  {
   "cell_type": "code",
   "execution_count": 13,
   "id": "4ff0a71e",
   "metadata": {
    "ExecuteTime": {
     "end_time": "2024-03-03T07:04:26.886913Z",
     "start_time": "2024-03-03T07:04:24.602253Z"
    }
   },
   "outputs": [],
   "source": [
    "with open(\"GRCh38_HG001_SNP_Indel.GIAB_v4.2.1_and_v3.3.2.bed\", \"w+\") as fw:\n",
    "    for line in open(\"data/HG001_GRCh38_1_22_v4.2.1_benchmark.bed\"):\n",
    "        fw.write(line)\n",
    "    for line in open(\"data/HG001_GRCh38_GIAB_highconf_CG-IllFB-IllGATKHC-Ion-10X-SOLID_CHROM1-X_v.3.3.2_highconf_nosomaticdel_noCENorHET7.bed\"):\n",
    "        row = line.strip(\"\\n\").split(\"\\t\")\n",
    "        if row[0] == \"chrX\":\n",
    "            fw.write(line)\n",
    "            \n",
    "! bgzip -f -c GRCh38_HG001_SNP_Indel.GIAB_v4.2.1_and_v3.3.2.bed > GRCh38_HG001_SNP_Indel.GIAB_v4.2.1_and_v3.3.2.bed.gz\n",
    "! tabix -f -p bed GRCh38_HG001_SNP_Indel.GIAB_v4.2.1_and_v3.3.2.bed.gz"
   ]
  }
 ],
 "metadata": {
  "kernelspec": {
   "display_name": "Python 3",
   "language": "python",
   "name": "python3"
  },
  "language_info": {
   "codemirror_mode": {
    "name": "ipython",
    "version": 3
   },
   "file_extension": ".py",
   "mimetype": "text/x-python",
   "name": "python",
   "nbconvert_exporter": "python",
   "pygments_lexer": "ipython3",
   "version": "3.6.15"
  }
 },
 "nbformat": 4,
 "nbformat_minor": 5
}
